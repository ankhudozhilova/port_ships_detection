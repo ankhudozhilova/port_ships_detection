{
 "cells": [
  {
   "cell_type": "code",
   "execution_count": 13,
   "id": "e022ce19",
   "metadata": {},
   "outputs": [],
   "source": [
    "from ultralytics import YOLO\n",
    "import cv2\n",
    "# Загрузка предобученной модели YOLOv8\n",
    "model = YOLO('yolov8n.pt')  # 'n' — nano версия (самая легкая)"
   ]
  },
  {
   "cell_type": "code",
   "execution_count": 14,
   "id": "1d43c6ea",
   "metadata": {},
   "outputs": [
    {
     "name": "stdout",
     "output_type": "stream",
     "text": [
      "\n",
      "0: 448x640 3 boats, 127.0ms\n",
      "Speed: 6.9ms preprocess, 127.0ms inference, 1.0ms postprocess per image at shape (1, 3, 448, 640)\n"
     ]
    }
   ],
   "source": [
    "image = cv2.imread('ships_3.jpg')\n",
    "\n",
    "results = model(image)\n",
    "\n",
    "# Инициализация счетчика кораблей\n",
    "tv_count = 0\n",
    "\n",
    "# Перебираем все обнаруженные объекты\n",
    "for result in results:\n",
    "    for box in result.boxes:\n",
    "        class_id = int(box.cls)\n",
    "        if class_id == 8:  # Нужный класс в COCO\n",
    "            tv_count += 1\n",
    "\n",
    "# Визуализация результатов с bounding boxes\n",
    "annotated_image = results[0].plot()\n",
    "\n",
    "# Добавляем текст с количеством кораблей\n",
    "text = f'SHIPS Count: {tv_count}'\n",
    "cv2.putText(annotated_image, text, (850, 40), cv2.FONT_HERSHEY_SIMPLEX, 1, (180, 20, 220), 2)\n",
    "\n",
    "#cv2.imwrite('./data/tv_data/detected_tvs/detected_tvs.jpg', annotated_image)\n",
    "\n",
    "# Показываем результат \n",
    "cv2.imshow('TV Detection', annotated_image)\n",
    "cv2.waitKey(0)\n",
    "cv2.destroyAllWindows()\n",
    "\n",
    "# Выводим количество\n",
    "#print(f\"Найдено кораблей: {tv_count}\")"
   ]
  },
  {
   "cell_type": "code",
   "execution_count": 21,
   "id": "c0367917",
   "metadata": {},
   "outputs": [
    {
     "ename": "NameError",
     "evalue": "name 'annotated_frame' is not defined",
     "output_type": "error",
     "traceback": [
      "\u001b[1;31m---------------------------------------------------------------------------\u001b[0m",
      "\u001b[1;31mNameError\u001b[0m                                 Traceback (most recent call last)",
      "Cell \u001b[1;32mIn[4], line 20\u001b[0m\n\u001b[0;32m     18\u001b[0m \u001b[38;5;66;03m# Добавляем текст с количеством кораблей\u001b[39;00m\n\u001b[0;32m     19\u001b[0m text \u001b[38;5;241m=\u001b[39m \u001b[38;5;124mf\u001b[39m\u001b[38;5;124m'\u001b[39m\u001b[38;5;124mSHIPS Count: \u001b[39m\u001b[38;5;132;01m{\u001b[39;00mtv_count\u001b[38;5;132;01m}\u001b[39;00m\u001b[38;5;124m'\u001b[39m\n\u001b[1;32m---> 20\u001b[0m cv2\u001b[38;5;241m.\u001b[39mputText(annotated_frame, text, (\u001b[38;5;241m10\u001b[39m, \u001b[38;5;241m30\u001b[39m), cv2\u001b[38;5;241m.\u001b[39mFONT_HERSHEY_SIMPLEX, \u001b[38;5;241m1\u001b[39m, (\u001b[38;5;241m180\u001b[39m, \u001b[38;5;241m20\u001b[39m, \u001b[38;5;241m220\u001b[39m), \u001b[38;5;241m2\u001b[39m)\n\u001b[0;32m     22\u001b[0m \u001b[38;5;66;03m#cv2.imwrite('./data/tv_data/detected_tvs/detected_tvs.jpg', annotated_image)\u001b[39;00m\n\u001b[0;32m     23\u001b[0m \n\u001b[0;32m     24\u001b[0m \u001b[38;5;66;03m# Показываем результат\u001b[39;00m\n\u001b[0;32m     25\u001b[0m cv2\u001b[38;5;241m.\u001b[39mimshow(\u001b[38;5;124m'\u001b[39m\u001b[38;5;124mTV Detection\u001b[39m\u001b[38;5;124m'\u001b[39m, annotated_image)\n",
      "\u001b[1;31mNameError\u001b[0m: name 'annotated_frame' is not defined"
     ]
    },
    {
     "name": "stdout",
     "output_type": "stream",
     "text": [
      " * Serving Flask app '__main__'\n",
      " * Debug mode: off\n"
     ]
    },
    {
     "name": "stderr",
     "output_type": "stream",
     "text": [
      "WARNING: This is a development server. Do not use it in a production deployment. Use a production WSGI server instead.\n",
      " * Running on http://127.0.0.1:5000\n",
      "Press CTRL+C to quit\n",
      "127.0.0.1 - - [01/May/2025 00:18:12] \"GET / HTTP/1.1\" 200 -\n"
     ]
    }
   ],
   "source": [
    "%tb\n",
    "from flask import Flask, request, jsonify, send_from_directory\n",
    "from ultralytics import YOLO\n",
    "import cv2\n",
    "import tempfile\n",
    "import os\n",
    "from flask_cors import CORS\n",
    "\n",
    "import shutil\n",
    "\n",
    "# Путь к папке временных файлов\n",
    "TEMP_DIR = \"temporary_folder\"\n",
    "\n",
    "# Очистка папки перед запуском (опционально)\n",
    "shutil.rmtree(TEMP_DIR, ignore_errors=True)\n",
    "os.makedirs(TEMP_DIR, exist_ok=True)\n",
    "\n",
    "app = Flask(__name__)\n",
    "CORS(app)  # Разрешить запросы с любых доменов\n",
    "model = YOLO('yolov8n.pt')\n",
    "\n",
    "@app.route('/')\n",
    "def home():\n",
    "    return \"Succsess\"\n",
    "\n",
    "@app.route('/process', methods=['POST'])\n",
    "def process_video():\n",
    "    try:\n",
    "        if 'video' not in request.files:\n",
    "            return jsonify({'error': 'No video uploaded'}), 400\n",
    "\n",
    "        video_file = request.files['video']\n",
    "        if video_file.filename == '':\n",
    "            return jsonify({'error': 'Empty filename'}), 400\n",
    "\n",
    "        # Сохраняем входное видео\n",
    "        input_path = os.path.join(TEMP_DIR, \"input_video.mp4\")\n",
    "        video_file.save(input_path)\n",
    "\n",
    "        # Инициализация видео-потоков\n",
    "        cap = cv2.VideoCapture(input_path)\n",
    "        fps = int(cap.get(cv2.CAP_PROP_FPS))\n",
    "        width = int(cap.get(cv2.CAP_PROP_FRAME_WIDTH))\n",
    "        height = int(cap.get(cv2.CAP_PROP_FRAME_HEIGHT))\n",
    "\n",
    "        # Выходной файл\n",
    "        output_filename = \"output_video.mp4\"\n",
    "        output_path = os.path.join(TEMP_DIR, output_filename)\n",
    "\n",
    "        fourcc = cv2.VideoWriter_fourcc(*'avc1')\n",
    "        out = cv2.VideoWriter(output_path, fourcc, fps, (width, height))\n",
    "\n",
    "        counts = []\n",
    "\n",
    "        # Обработка кадров\n",
    "        try:\n",
    "            while cap.isOpened():\n",
    "                ret, frame = cap.read()\n",
    "                if not ret:\n",
    "                    break\n",
    "\n",
    "                results = model(frame, classes=[8])\n",
    "                count = len(results[0].boxes)\n",
    "                counts.append(count)\n",
    "\n",
    "                annotated_frame = results[0].plot()\n",
    "                out.write(annotated_frame)\n",
    "        finally:\n",
    "            # Гарантированное освобождение ресурсов\n",
    "            cap.release()\n",
    "            out.release()\n",
    "\n",
    "        # Удаление временных файлов (опционально)\n",
    "        #os.remove(input_path)\n",
    "        #os.remove(output_path)\n",
    "\n",
    "        return jsonify({\n",
    "            'video_url': f'/download/{output_filename}',\n",
    "            'counts': counts\n",
    "        })\n",
    "\n",
    "    except Exception as e:\n",
    "        return jsonify({'error': str(e)}), 500\n",
    "\n",
    "\n",
    "@app.route('/download/<filename>')\n",
    "def download_file(filename):\n",
    "    return send_from_directory(\n",
    "        TEMP_DIR,\n",
    "        filename,\n",
    "        mimetype='video/mp4',  # Явно указываем MIME-тип\n",
    "        as_attachment=False\n",
    "    )\n",
    "\n",
    "if __name__ == '__main__':\n",
    "    app.run()"
   ]
  },
  {
   "cell_type": "code",
   "execution_count": 4,
   "id": "7db685a7",
   "metadata": {},
   "outputs": [
    {
     "name": "stdout",
     "output_type": "stream",
     "text": [
      "Collecting flask_cors\n",
      "  Obtaining dependency information for flask_cors from https://files.pythonhosted.org/packages/85/61/4aea5fb55be1b6f95e604627dc6c50c47d693e39cab2ac086ee0155a0abd/flask_cors-5.0.1-py3-none-any.whl.metadata\n",
      "  Downloading flask_cors-5.0.1-py3-none-any.whl.metadata (961 bytes)\n",
      "Requirement already satisfied: flask>=0.9 in d:\\anaconda\\lib\\site-packages (from flask_cors) (2.2.2)\n",
      "Requirement already satisfied: Werkzeug>=0.7 in d:\\anaconda\\lib\\site-packages (from flask_cors) (2.2.3)\n",
      "Requirement already satisfied: Jinja2>=3.0 in d:\\anaconda\\lib\\site-packages (from flask>=0.9->flask_cors) (3.1.2)\n",
      "Requirement already satisfied: itsdangerous>=2.0 in d:\\anaconda\\lib\\site-packages (from flask>=0.9->flask_cors) (2.0.1)\n",
      "Requirement already satisfied: click>=8.0 in d:\\anaconda\\lib\\site-packages (from flask>=0.9->flask_cors) (8.0.4)\n",
      "Requirement already satisfied: MarkupSafe>=2.1.1 in d:\\anaconda\\lib\\site-packages (from Werkzeug>=0.7->flask_cors) (2.1.1)\n",
      "Requirement already satisfied: colorama in d:\\anaconda\\lib\\site-packages (from click>=8.0->flask>=0.9->flask_cors) (0.4.6)\n",
      "Downloading flask_cors-5.0.1-py3-none-any.whl (11 kB)\n",
      "Installing collected packages: flask_cors\n",
      "Successfully installed flask_cors-5.0.1\n"
     ]
    }
   ],
   "source": [
    "!pip install flask_cors"
   ]
  },
  {
   "cell_type": "code",
   "execution_count": null,
   "id": "5e3d8eb8",
   "metadata": {},
   "outputs": [],
   "source": []
  }
 ],
 "metadata": {
  "kernelspec": {
   "display_name": "Python 3 (ipykernel)",
   "language": "python",
   "name": "python3"
  },
  "language_info": {
   "codemirror_mode": {
    "name": "ipython",
    "version": 3
   },
   "file_extension": ".py",
   "mimetype": "text/x-python",
   "name": "python",
   "nbconvert_exporter": "python",
   "pygments_lexer": "ipython3",
   "version": "3.11.5"
  }
 },
 "nbformat": 4,
 "nbformat_minor": 5
}
